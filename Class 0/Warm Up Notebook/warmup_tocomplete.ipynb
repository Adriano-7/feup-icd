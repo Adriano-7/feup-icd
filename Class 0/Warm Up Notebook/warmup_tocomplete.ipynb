{
 "cells": [
  {
   "cell_type": "markdown",
   "metadata": {},
   "source": [
    "# Importing Python modules\n",
    "Import the following modules:\n",
    "* statsmodels: used in machine learning; usually aliased as sm\n",
    "* seaborn: a visualization library; usually aliased as sns\n",
    "\n",
    "Use pip install to install them first. To install pip check here:\n",
    "https://pip.pypa.io/en/stable/installation/\n",
    "\n",
    "To install a module:\n",
    "pip install <package_name> \n",
    "\n",
    "To update an module already installed:\n",
    "pip install <package_name> --upgrade\n",
    "\n",
    "In a notebook you can perform the installation within the notebook using the symbol \"!\" before the pip command, e.g.\n",
    "!pip install seaborn"
   ]
  },
  {
   "cell_type": "code",
   "execution_count": 60,
   "metadata": {},
   "outputs": [
    {
     "name": "stdout",
     "output_type": "stream",
     "text": [
      "Requirement already satisfied: seaborn in d:\\programs\\miniconda\\lib\\site-packages (0.13.2)\n",
      "Requirement already satisfied: numpy!=1.24.0,>=1.20 in d:\\programs\\miniconda\\lib\\site-packages (from seaborn) (2.1.2)\n",
      "Requirement already satisfied: pandas>=1.2 in d:\\programs\\miniconda\\lib\\site-packages (from seaborn) (2.2.3)\n",
      "Requirement already satisfied: matplotlib!=3.6.1,>=3.4 in d:\\programs\\miniconda\\lib\\site-packages (from seaborn) (3.9.2)\n",
      "Requirement already satisfied: contourpy>=1.0.1 in d:\\programs\\miniconda\\lib\\site-packages (from matplotlib!=3.6.1,>=3.4->seaborn) (1.3.0)\n",
      "Requirement already satisfied: cycler>=0.10 in d:\\programs\\miniconda\\lib\\site-packages (from matplotlib!=3.6.1,>=3.4->seaborn) (0.12.1)\n",
      "Requirement already satisfied: fonttools>=4.22.0 in d:\\programs\\miniconda\\lib\\site-packages (from matplotlib!=3.6.1,>=3.4->seaborn) (4.54.1)\n",
      "Requirement already satisfied: kiwisolver>=1.3.1 in d:\\programs\\miniconda\\lib\\site-packages (from matplotlib!=3.6.1,>=3.4->seaborn) (1.4.7)\n",
      "Requirement already satisfied: packaging>=20.0 in d:\\programs\\miniconda\\lib\\site-packages (from matplotlib!=3.6.1,>=3.4->seaborn) (24.1)\n",
      "Requirement already satisfied: pillow>=8 in d:\\programs\\miniconda\\lib\\site-packages (from matplotlib!=3.6.1,>=3.4->seaborn) (11.0.0)\n",
      "Requirement already satisfied: pyparsing>=2.3.1 in d:\\programs\\miniconda\\lib\\site-packages (from matplotlib!=3.6.1,>=3.4->seaborn) (3.1.4)\n",
      "Requirement already satisfied: python-dateutil>=2.7 in d:\\programs\\miniconda\\lib\\site-packages (from matplotlib!=3.6.1,>=3.4->seaborn) (2.9.0)\n",
      "Requirement already satisfied: pytz>=2020.1 in d:\\programs\\miniconda\\lib\\site-packages (from pandas>=1.2->seaborn) (2024.2)\n",
      "Requirement already satisfied: tzdata>=2022.7 in d:\\programs\\miniconda\\lib\\site-packages (from pandas>=1.2->seaborn) (2024.2)\n",
      "Requirement already satisfied: six>=1.5 in d:\\programs\\miniconda\\lib\\site-packages (from python-dateutil>=2.7->matplotlib!=3.6.1,>=3.4->seaborn) (1.16.0)\n",
      "Note: you may need to restart the kernel to use updated packages.\n",
      "Requirement already satisfied: statsmodels in d:\\programs\\miniconda\\lib\\site-packages (0.14.4)\n",
      "Requirement already satisfied: numpy<3,>=1.22.3 in d:\\programs\\miniconda\\lib\\site-packages (from statsmodels) (2.1.2)\n",
      "Requirement already satisfied: scipy!=1.9.2,>=1.8 in d:\\programs\\miniconda\\lib\\site-packages (from statsmodels) (1.14.1)\n",
      "Requirement already satisfied: pandas!=2.1.0,>=1.4 in d:\\programs\\miniconda\\lib\\site-packages (from statsmodels) (2.2.3)\n",
      "Requirement already satisfied: patsy>=0.5.6 in d:\\programs\\miniconda\\lib\\site-packages (from statsmodels) (0.5.6)\n",
      "Requirement already satisfied: packaging>=21.3 in d:\\programs\\miniconda\\lib\\site-packages (from statsmodels) (24.1)\n",
      "Requirement already satisfied: python-dateutil>=2.8.2 in d:\\programs\\miniconda\\lib\\site-packages (from pandas!=2.1.0,>=1.4->statsmodels) (2.9.0)\n",
      "Requirement already satisfied: pytz>=2020.1 in d:\\programs\\miniconda\\lib\\site-packages (from pandas!=2.1.0,>=1.4->statsmodels) (2024.2)\n",
      "Requirement already satisfied: tzdata>=2022.7 in d:\\programs\\miniconda\\lib\\site-packages (from pandas!=2.1.0,>=1.4->statsmodels) (2024.2)\n",
      "Requirement already satisfied: six in d:\\programs\\miniconda\\lib\\site-packages (from patsy>=0.5.6->statsmodels) (1.16.0)\n",
      "Note: you may need to restart the kernel to use updated packages.\n"
     ]
    }
   ],
   "source": [
    "%pip install seaborn\n",
    "%pip install statsmodels"
   ]
  },
  {
   "cell_type": "code",
   "execution_count": 61,
   "metadata": {},
   "outputs": [],
   "source": [
    "# Use an import statement to import statsmodels and seaborn\n",
    "# fill code below\n",
    "import statsmodels\n",
    "import seaborn as sns"
   ]
  },
  {
   "cell_type": "markdown",
   "metadata": {},
   "source": [
    "numpy is a module for performing mathematical operations on lists of data. The standard alias for numpy is np."
   ]
  },
  {
   "cell_type": "code",
   "execution_count": 62,
   "metadata": {},
   "outputs": [],
   "source": [
    "# import numpy with np alias\n",
    "import numpy as np"
   ]
  },
  {
   "cell_type": "markdown",
   "metadata": {},
   "source": [
    "Recall some of the ways to create variables"
   ]
  },
  {
   "cell_type": "code",
   "execution_count": 63,
   "metadata": {},
   "outputs": [
    {
     "name": "stdout",
     "output_type": "stream",
     "text": [
      "4.0\n",
      "Mr. Magoo\n",
      "IntroDS\n"
     ]
    }
   ],
   "source": [
    "# Define a variable called bayes_age and set it equal to 4.0.\n",
    "bayes_age = 4.0\n",
    "\n",
    "# Display the variable bayes_age.\n",
    "print(bayes_age)\n",
    "\n",
    "# Define a variable called favorite_toy whose value is \"Mr. Magoo\".\n",
    "# Define a variable called owner whose value is 'IntroDS'.\n",
    "# Show the values assigned to these variables.\n",
    "# Bayes' favorite toy\n",
    "favorite_toy = \"Mr. Magoo\"\n",
    "\n",
    "# Bayes' owner\n",
    "owner = 'IntroDS'\n",
    "\n",
    "# Display variables\n",
    "print(favorite_toy)\n",
    "print(owner)\n",
    "\n",
    "#Correct the mistakes in the code so that it runs without producing syntax errors.\n",
    "# One or more of the following lines contains an error\n",
    "# Correct it so that it runs without producing syntax errors\n",
    "birthday = \"2017-07-14\"\n",
    "case_id = 'DATACAMP!123-456?'\n"
   ]
  },
  {
   "cell_type": "markdown",
   "metadata": {},
   "source": [
    "Which of the following is not a valid variable name?\n",
    "\n",
    "* my_dog_bayes\n",
    "* BAYES42\n",
    "* 3dogs\n",
    "* this_is_a_very_long_variable_name_42\n",
    "\n",
    "The answer is:3dogs"
   ]
  },
  {
   "cell_type": "markdown",
   "metadata": {},
   "source": [
    "# Load a DataFrame\n",
    "Use pd.read_csv() to load data from a CSV file called candy_crush.csv\n",
    "\n",
    "Candy Crush Saga is a popular mobile puzzle game developed by King. The game involves matching candies of the same color in a grid to clear them and earn points. As you progress through the levels, the challenges become more complex with new obstacles and objectives. The game is known for its addictive gameplay, colorful graphics, and social features that allow players to connect with friends and compete on leaderboards.\n",
    "\n",
    " ![ Alt Text](https://compote.slate.com/images/cbb78ab8-16e2-4774-ae11-5a316d76078d.jpg?crop=568%2C346%2Cx0%2Cy0&width=1280).\n",
    "\n",
    "\n",
    "The game has more than 3000 levels. Estimate the right level of difficulty for each player to keep it interesting.\n"
   ]
  },
  {
   "cell_type": "code",
   "execution_count": 64,
   "metadata": {},
   "outputs": [
    {
     "data": {
      "text/html": [
       "<div>\n",
       "<style scoped>\n",
       "    .dataframe tbody tr th:only-of-type {\n",
       "        vertical-align: middle;\n",
       "    }\n",
       "\n",
       "    .dataframe tbody tr th {\n",
       "        vertical-align: top;\n",
       "    }\n",
       "\n",
       "    .dataframe thead th {\n",
       "        text-align: right;\n",
       "    }\n",
       "</style>\n",
       "<table border=\"1\" class=\"dataframe\">\n",
       "  <thead>\n",
       "    <tr style=\"text-align: right;\">\n",
       "      <th></th>\n",
       "      <th>player_id</th>\n",
       "      <th>dt</th>\n",
       "      <th>level</th>\n",
       "      <th>num_attempts</th>\n",
       "      <th>num_success</th>\n",
       "    </tr>\n",
       "  </thead>\n",
       "  <tbody>\n",
       "    <tr>\n",
       "      <th>0</th>\n",
       "      <td>6dd5af4c7228fa353d505767143f5815</td>\n",
       "      <td>2014-01-04</td>\n",
       "      <td>4</td>\n",
       "      <td>3</td>\n",
       "      <td>1</td>\n",
       "    </tr>\n",
       "    <tr>\n",
       "      <th>1</th>\n",
       "      <td>c7ec97c39349ab7e4d39b4f74062ec13</td>\n",
       "      <td>2014-01-01</td>\n",
       "      <td>8</td>\n",
       "      <td>4</td>\n",
       "      <td>1</td>\n",
       "    </tr>\n",
       "    <tr>\n",
       "      <th>2</th>\n",
       "      <td>c7ec97c39349ab7e4d39b4f74062ec13</td>\n",
       "      <td>2014-01-05</td>\n",
       "      <td>12</td>\n",
       "      <td>6</td>\n",
       "      <td>0</td>\n",
       "    </tr>\n",
       "    <tr>\n",
       "      <th>3</th>\n",
       "      <td>a32c5e9700ed356dc8dd5bb3230c5227</td>\n",
       "      <td>2014-01-03</td>\n",
       "      <td>11</td>\n",
       "      <td>1</td>\n",
       "      <td>1</td>\n",
       "    </tr>\n",
       "    <tr>\n",
       "      <th>4</th>\n",
       "      <td>a32c5e9700ed356dc8dd5bb3230c5227</td>\n",
       "      <td>2014-01-07</td>\n",
       "      <td>15</td>\n",
       "      <td>6</td>\n",
       "      <td>0</td>\n",
       "    </tr>\n",
       "    <tr>\n",
       "      <th>...</th>\n",
       "      <td>...</td>\n",
       "      <td>...</td>\n",
       "      <td>...</td>\n",
       "      <td>...</td>\n",
       "      <td>...</td>\n",
       "    </tr>\n",
       "    <tr>\n",
       "      <th>16860</th>\n",
       "      <td>e3e95924b152d5d2b0fcf0cc2b8a4261</td>\n",
       "      <td>2014-01-07</td>\n",
       "      <td>15</td>\n",
       "      <td>1</td>\n",
       "      <td>1</td>\n",
       "    </tr>\n",
       "    <tr>\n",
       "      <th>16861</th>\n",
       "      <td>712d953e972844194475f21b9352c1ab</td>\n",
       "      <td>2014-01-01</td>\n",
       "      <td>8</td>\n",
       "      <td>2</td>\n",
       "      <td>0</td>\n",
       "    </tr>\n",
       "    <tr>\n",
       "      <th>16862</th>\n",
       "      <td>7fad6b6c0d8c8a5ef69f467511b5262c</td>\n",
       "      <td>2014-01-01</td>\n",
       "      <td>9</td>\n",
       "      <td>10</td>\n",
       "      <td>1</td>\n",
       "    </tr>\n",
       "    <tr>\n",
       "      <th>16863</th>\n",
       "      <td>323676bf93f40dda0a96cba8c73c1478</td>\n",
       "      <td>2014-01-06</td>\n",
       "      <td>14</td>\n",
       "      <td>1</td>\n",
       "      <td>1</td>\n",
       "    </tr>\n",
       "    <tr>\n",
       "      <th>16864</th>\n",
       "      <td>cda5e442e086f0b9f8d19b18177e4099</td>\n",
       "      <td>2014-01-01</td>\n",
       "      <td>1</td>\n",
       "      <td>1</td>\n",
       "      <td>1</td>\n",
       "    </tr>\n",
       "  </tbody>\n",
       "</table>\n",
       "<p>16865 rows × 5 columns</p>\n",
       "</div>"
      ],
      "text/plain": [
       "                              player_id          dt  level  num_attempts  \\\n",
       "0      6dd5af4c7228fa353d505767143f5815  2014-01-04      4             3   \n",
       "1      c7ec97c39349ab7e4d39b4f74062ec13  2014-01-01      8             4   \n",
       "2      c7ec97c39349ab7e4d39b4f74062ec13  2014-01-05     12             6   \n",
       "3      a32c5e9700ed356dc8dd5bb3230c5227  2014-01-03     11             1   \n",
       "4      a32c5e9700ed356dc8dd5bb3230c5227  2014-01-07     15             6   \n",
       "...                                 ...         ...    ...           ...   \n",
       "16860  e3e95924b152d5d2b0fcf0cc2b8a4261  2014-01-07     15             1   \n",
       "16861  712d953e972844194475f21b9352c1ab  2014-01-01      8             2   \n",
       "16862  7fad6b6c0d8c8a5ef69f467511b5262c  2014-01-01      9            10   \n",
       "16863  323676bf93f40dda0a96cba8c73c1478  2014-01-06     14             1   \n",
       "16864  cda5e442e086f0b9f8d19b18177e4099  2014-01-01      1             1   \n",
       "\n",
       "       num_success  \n",
       "0                1  \n",
       "1                1  \n",
       "2                0  \n",
       "3                1  \n",
       "4                0  \n",
       "...            ...  \n",
       "16860            1  \n",
       "16861            0  \n",
       "16862            1  \n",
       "16863            1  \n",
       "16864            1  \n",
       "\n",
       "[16865 rows x 5 columns]"
      ]
     },
     "metadata": {},
     "output_type": "display_data"
    }
   ],
   "source": [
    "# Use pd.read_csv() to load data from a CSV file called candy_crush.csv\n",
    "# note that you have to point to the directory where the file is located\n",
    "# otherwise move to the directory where you are working before loading the file\n",
    "# /Users/test/Dropbox/FCUP/FCUP-Aulas/2024_2025/IntroDataScience/datasets/candy_crush.csv\n",
    "# Import pandas\n",
    "import pandas as pd\n",
    "import os\n",
    "\n",
    "# change the following directory to the directory where the dataset is located\n",
    "# Load the 'ransom.csv' into a DataFrame\n",
    "df = pd.read_csv('candy_crush.csv')\n",
    "\n",
    "# Display DataFrame\n",
    "display(df)"
   ]
  },
  {
   "cell_type": "code",
   "execution_count": 65,
   "metadata": {},
   "outputs": [
    {
     "data": {
      "text/html": [
       "<div>\n",
       "<style scoped>\n",
       "    .dataframe tbody tr th:only-of-type {\n",
       "        vertical-align: middle;\n",
       "    }\n",
       "\n",
       "    .dataframe tbody tr th {\n",
       "        vertical-align: top;\n",
       "    }\n",
       "\n",
       "    .dataframe thead th {\n",
       "        text-align: right;\n",
       "    }\n",
       "</style>\n",
       "<table border=\"1\" class=\"dataframe\">\n",
       "  <thead>\n",
       "    <tr style=\"text-align: right;\">\n",
       "      <th></th>\n",
       "      <th>level</th>\n",
       "      <th>num_attempts</th>\n",
       "      <th>num_success</th>\n",
       "    </tr>\n",
       "  </thead>\n",
       "  <tbody>\n",
       "    <tr>\n",
       "      <th>count</th>\n",
       "      <td>16865.000000</td>\n",
       "      <td>16865.000000</td>\n",
       "      <td>16865.000000</td>\n",
       "    </tr>\n",
       "    <tr>\n",
       "      <th>mean</th>\n",
       "      <td>9.287222</td>\n",
       "      <td>5.535428</td>\n",
       "      <td>0.627157</td>\n",
       "    </tr>\n",
       "    <tr>\n",
       "      <th>std</th>\n",
       "      <td>4.343477</td>\n",
       "      <td>7.322476</td>\n",
       "      <td>0.864708</td>\n",
       "    </tr>\n",
       "    <tr>\n",
       "      <th>min</th>\n",
       "      <td>1.000000</td>\n",
       "      <td>0.000000</td>\n",
       "      <td>0.000000</td>\n",
       "    </tr>\n",
       "    <tr>\n",
       "      <th>25%</th>\n",
       "      <td>6.000000</td>\n",
       "      <td>1.000000</td>\n",
       "      <td>0.000000</td>\n",
       "    </tr>\n",
       "    <tr>\n",
       "      <th>50%</th>\n",
       "      <td>9.000000</td>\n",
       "      <td>3.000000</td>\n",
       "      <td>1.000000</td>\n",
       "    </tr>\n",
       "    <tr>\n",
       "      <th>75%</th>\n",
       "      <td>14.000000</td>\n",
       "      <td>7.000000</td>\n",
       "      <td>1.000000</td>\n",
       "    </tr>\n",
       "    <tr>\n",
       "      <th>max</th>\n",
       "      <td>15.000000</td>\n",
       "      <td>258.000000</td>\n",
       "      <td>55.000000</td>\n",
       "    </tr>\n",
       "  </tbody>\n",
       "</table>\n",
       "</div>"
      ],
      "text/plain": [
       "              level  num_attempts   num_success\n",
       "count  16865.000000  16865.000000  16865.000000\n",
       "mean       9.287222      5.535428      0.627157\n",
       "std        4.343477      7.322476      0.864708\n",
       "min        1.000000      0.000000      0.000000\n",
       "25%        6.000000      1.000000      0.000000\n",
       "50%        9.000000      3.000000      1.000000\n",
       "75%       14.000000      7.000000      1.000000\n",
       "max       15.000000    258.000000     55.000000"
      ]
     },
     "metadata": {},
     "output_type": "display_data"
    }
   ],
   "source": [
    "# describe the numerical features of your dataset\n",
    "display(df.describe())"
   ]
  },
  {
   "cell_type": "code",
   "execution_count": 66,
   "metadata": {},
   "outputs": [
    {
     "name": "stdout",
     "output_type": "stream",
     "text": [
      "Cols:\n",
      "Index(['player_id', 'dt', 'level', 'num_attempts', 'num_success'], dtype='object')\n",
      "\n",
      "\n",
      "Shape:\n",
      "(16865, 5)\n",
      "\n",
      "\n",
      "                          player_id          dt  level  num_attempts  \\\n",
      "0  6dd5af4c7228fa353d505767143f5815  2014-01-04      4             3   \n",
      "1  c7ec97c39349ab7e4d39b4f74062ec13  2014-01-01      8             4   \n",
      "2  c7ec97c39349ab7e4d39b4f74062ec13  2014-01-05     12             6   \n",
      "3  a32c5e9700ed356dc8dd5bb3230c5227  2014-01-03     11             1   \n",
      "4  a32c5e9700ed356dc8dd5bb3230c5227  2014-01-07     15             6   \n",
      "\n",
      "   num_success  \n",
      "0            1  \n",
      "1            1  \n",
      "2            0  \n",
      "3            1  \n",
      "4            0  \n",
      "\n",
      "\n",
      "<class 'pandas.core.frame.DataFrame'>\n",
      "RangeIndex: 16865 entries, 0 to 16864\n",
      "Data columns (total 5 columns):\n",
      " #   Column        Non-Null Count  Dtype \n",
      "---  ------        --------------  ----- \n",
      " 0   player_id     16865 non-null  object\n",
      " 1   dt            16865 non-null  object\n",
      " 2   level         16865 non-null  int64 \n",
      " 3   num_attempts  16865 non-null  int64 \n",
      " 4   num_success   16865 non-null  int64 \n",
      "dtypes: int64(3), object(2)\n",
      "memory usage: 658.9+ KB\n",
      "None\n",
      "\n",
      "\n"
     ]
    },
    {
     "data": {
      "text/plain": [
       "np.float64(9.287222057515566)"
      ]
     },
     "execution_count": 66,
     "metadata": {},
     "output_type": "execute_result"
    }
   ],
   "source": [
    "# to access the column names of the dataframe use .columns\n",
    "print(\"Cols:\")\n",
    "print(df.columns)\n",
    "print(\"\\n\")\n",
    "\n",
    "\n",
    "# calculate the dimensions of the dataframe with shape\n",
    "print(\"Shape:\")\n",
    "print(df.shape)\n",
    "print(\"\\n\")\n",
    "\n",
    "# Display the first five rows of candy_crush.csv using the .head() method for the dataframe\n",
    "print(df.head())\n",
    "print(\"\\n\")\n",
    "\n",
    "# Use the .info() method to inspect the DataFrame\n",
    "print(df.info())\n",
    "print(\"\\n\")\n",
    "\n",
    "# calculate the mean value of level, use the mean function in numpy\n",
    "np.mean(df.level)"
   ]
  },
  {
   "cell_type": "markdown",
   "metadata": {},
   "source": [
    "# Selecting columns\n",
    "Once the dataframe is loaded we can access its columns to make calculations over it.\n",
    "Column names are strings and we can view their names using either dot-head or dot-info functions.\n",
    "\n",
    "## Selecting with a dot\n",
    "If the columns string only contains letters, numbers, and underscores, we can use dot notation. For dot notation, we simply type the name of the variable, followed by a dot, followed by the name of the column. In this case, we don't use quotation marks around the column name.\n",
    "\n",
    "## Selecting with brackets and string\n",
    "Type the name of the DataFrame, followed by an open square bracket, followed by the column string (in quotation marks), and closed with a second square bracket. \n"
   ]
  },
  {
   "cell_type": "code",
   "execution_count": 67,
   "metadata": {},
   "outputs": [
    {
     "name": "stdout",
     "output_type": "stream",
     "text": [
      "0        1\n",
      "1        1\n",
      "2        0\n",
      "3        1\n",
      "4        0\n",
      "        ..\n",
      "16860    1\n",
      "16861    0\n",
      "16862    1\n",
      "16863    1\n",
      "16864    1\n",
      "Name: num_success, Length: 16865, dtype: int64\n"
     ]
    }
   ],
   "source": [
    "# Selecting columns\n",
    "# Select the column level from candy_crush using dot notation and set it to variable levels and print it\n",
    "levels = df.level\n",
    "\n",
    "# One or more lines of code contain errors.\n",
    "# Fix the errors so that the code runs!\n",
    "\n",
    "# Select the location column in credit_records\n",
    "num_success = df['num_success']\n",
    "\n",
    "# Select the num_success column \n",
    "items = df.num_success\n",
    "print(items)\n"
   ]
  },
  {
   "cell_type": "markdown",
   "metadata": {},
   "source": [
    "# Logical testing\n",
    "Recall that we use the following operators:\n",
    "* == tests that two values are equal.\n",
    "* != tests that two values are not equal.\n",
    "* \"> and <\" test that greater than or less than, respectively.\n",
    "* \">= and <=\" test greater than or equal to or less than or equal to, respectively."
   ]
  },
  {
   "cell_type": "code",
   "execution_count": 68,
   "metadata": {},
   "outputs": [
    {
     "name": "stdout",
     "output_type": "stream",
     "text": [
      "(16865, 5)\n",
      "(2436, 5)\n",
      "(1529, 5)\n"
     ]
    }
   ],
   "source": [
    "# test if there are cases with more than 10 attempts\n",
    "#print(sum(df.num_attempts > 10))\n",
    "\n",
    "# what is the type of the resulting variable?\n",
    "#It's a pandas series\n",
    "\n",
    "# make a subselection of the dataframe based on the previous criteria\n",
    "firstSubselection = df[df.num_attempts > 10]\n",
    "\n",
    "# now include a second criteria where num_attempts > 10 and num_success equals to zero\n",
    "\n",
    "secondSubselection = df[((df.num_success == 0) & (df.num_attempts > 10))]\n",
    "\n",
    "print(df.shape)\n",
    "print(firstSubselection.shape)\n",
    "print(secondSubselection.shape)\n"
   ]
  },
  {
   "cell_type": "code",
   "execution_count": 69,
   "metadata": {},
   "outputs": [
    {
     "name": "stdout",
     "output_type": "stream",
     "text": [
      "There were a total of 2199 players who played on the first day of 2014\n"
     ]
    }
   ],
   "source": [
    "# how many players played in the first day of 2014. Hint: the sum function over a vector o booleans considers true as 1 and false as 0.\n",
    "print(\"There were a total of\", sum(df.dt == \"2014-01-01\"), \"players who played on the first day of 2014\")\n",
    "\n",
    "# select rows with an num_success higher than 5 and set it to a new dataframe called dfh5\n",
    "dfh5 = df[df.num_success > 5]\n"
   ]
  },
  {
   "cell_type": "code",
   "execution_count": 70,
   "metadata": {},
   "outputs": [
    {
     "name": "stdout",
     "output_type": "stream",
     "text": [
      "Requirement already satisfied: matplotlib in d:\\programs\\miniconda\\lib\\site-packages (3.9.2)\n",
      "Requirement already satisfied: contourpy>=1.0.1 in d:\\programs\\miniconda\\lib\\site-packages (from matplotlib) (1.3.0)\n",
      "Requirement already satisfied: cycler>=0.10 in d:\\programs\\miniconda\\lib\\site-packages (from matplotlib) (0.12.1)\n",
      "Requirement already satisfied: fonttools>=4.22.0 in d:\\programs\\miniconda\\lib\\site-packages (from matplotlib) (4.54.1)\n",
      "Requirement already satisfied: kiwisolver>=1.3.1 in d:\\programs\\miniconda\\lib\\site-packages (from matplotlib) (1.4.7)\n",
      "Requirement already satisfied: numpy>=1.23 in d:\\programs\\miniconda\\lib\\site-packages (from matplotlib) (2.1.2)\n",
      "Requirement already satisfied: packaging>=20.0 in d:\\programs\\miniconda\\lib\\site-packages (from matplotlib) (24.1)\n",
      "Requirement already satisfied: pillow>=8 in d:\\programs\\miniconda\\lib\\site-packages (from matplotlib) (11.0.0)\n",
      "Requirement already satisfied: pyparsing>=2.3.1 in d:\\programs\\miniconda\\lib\\site-packages (from matplotlib) (3.1.4)\n",
      "Requirement already satisfied: python-dateutil>=2.7 in d:\\programs\\miniconda\\lib\\site-packages (from matplotlib) (2.9.0)\n",
      "Requirement already satisfied: six>=1.5 in d:\\programs\\miniconda\\lib\\site-packages (from python-dateutil>=2.7->matplotlib) (1.16.0)\n",
      "Note: you may need to restart the kernel to use updated packages.\n"
     ]
    }
   ],
   "source": [
    "%pip install matplotlib"
   ]
  },
  {
   "cell_type": "code",
   "execution_count": 71,
   "metadata": {},
   "outputs": [
    {
     "data": {
      "image/png": "[encoded data removed]",
      "text/plain": [
       "<Figure size 640x480 with 1 Axes>"
      ]
     },
     "metadata": {},
     "output_type": "display_data"
    }
   ],
   "source": [
    "# From matplotlib, import pyplot under the alias plt\n",
    "# from ____ import ____ as ____\n",
    "# Plot num_attempts vs num_success\n",
    "# Plot a scatter graph\n",
    "# plt.____(____, ____)\n",
    "\n",
    "from matplotlib import pyplot as plt\n",
    "\n",
    "plt.scatter(df.num_attempts, df.num_success)\n",
    "plt.show()\n",
    "\n"
   ]
  },
  {
   "cell_type": "code",
   "execution_count": 72,
   "metadata": {},
   "outputs": [
    {
     "data": {
      "image/png": "[encoded data removed]",
      "text/plain": [
       "<Figure size 640x480 with 1 Axes>"
      ]
     },
     "metadata": {},
     "output_type": "display_data"
    }
   ],
   "source": [
    "# repeat the previous procedure adding the x and y label\n",
    "# fill in the missing code\n",
    "plt.scatter(df.num_attempts, df.num_success)\n",
    "# add a label to x axis with xlabel\n",
    "plt.xlabel(\"Num. attempts\")\n",
    "# add a label to y axis with ylabel\n",
    "plt.ylabel(\"Num. successes\")\n",
    "# Display the graph\n",
    "plt.show()"
   ]
  },
  {
   "cell_type": "markdown",
   "metadata": {},
   "source": [
    "# Build a simple bar chart\n",
    "Create a bar chart for the variable levels\n",
    "Use the function plt.bar()\n",
    "Recall that the function plt.bar() takes two arguments: the labels for each bar, and the height of each bar."
   ]
  },
  {
   "cell_type": "code",
   "execution_count": 73,
   "metadata": {},
   "outputs": [
    {
     "data": {
      "image/png": "[encoded data removed]",
      "text/plain": [
       "<Figure size 640x480 with 1 Axes>"
      ]
     },
     "metadata": {},
     "output_type": "display_data"
    }
   ],
   "source": [
    "plt.bar(df.level, df.num_attempts)\n",
    "plt.xlabel(\"Level\")\n",
    "plt.ylabel(\"Num. attempts\")\n",
    "plt.title(\"Number of Attempts by Level\")\n",
    "plt.show()"
   ]
  },
  {
   "cell_type": "code",
   "execution_count": 74,
   "metadata": {},
   "outputs": [
    {
     "name": "stdout",
     "output_type": "stream",
     "text": [
      "0         4\n",
      "1         8\n",
      "2        12\n",
      "3        11\n",
      "4        15\n",
      "         ..\n",
      "16860    15\n",
      "16861     8\n",
      "16862     9\n",
      "16863    14\n",
      "16864     1\n",
      "Name: level, Length: 16865, dtype: int64\n"
     ]
    },
    {
     "data": {
      "image/png": "[encoded data removed]",
      "text/plain": [
       "<Figure size 640x480 with 1 Axes>"
      ]
     },
     "metadata": {},
     "output_type": "display_data"
    }
   ],
   "source": [
    "# Display the DataFrame levels using print\n",
    "# print(____)\n",
    "print(df.level)\n",
    "\n",
    "# Create a histogram plot for level use the function hist\n",
    "plt.hist(df.level)\n",
    "plt.xlabel( \"Game Level\")\n",
    "plt.ylabel(\"Frequency\")\n",
    "plt.title(\"Level Histogram\")\n",
    "plt.show()"
   ]
  },
  {
   "cell_type": "code",
   "execution_count": 75,
   "metadata": {},
   "outputs": [
    {
     "data": {
      "text/plain": [
       "<Axes: xlabel='num_attempts', ylabel='num_success'>"
      ]
     },
     "execution_count": 75,
     "metadata": {},
     "output_type": "execute_result"
    },
    {
     "data": {
      "image/png": "[encoded data removed]",
      "text/plain": [
       "<Figure size 640x480 with 1 Axes>"
      ]
     },
     "metadata": {},
     "output_type": "display_data"
    }
   ],
   "source": [
    "# use the seaborn module imported initially to plot a scatterplot\n",
    "# as you will see seaborn offers a more versatile library for plottin\n",
    "# import seaborn with sns alias; fill in the code below\n",
    "import seaborn as sns \n",
    "\n",
    "# use the function scatterplot from sns to plot num_attempts vs num_success\n",
    "# use the parameter data to set to df and x and y respectively to num_attempts vs num_success\n",
    "#sns.scatterplot(data=df, x=\"num_attempts\", y=\"num_success\")\n",
    "\n",
    "\n",
    "# Assigning a variable to parameter hue will map its levels to the color of the points\n",
    "# in this case set hue to level\n",
    "#sns.scatterplot(data=df, x=\"num_attempts\", y=\"num_success\", hue =\"level\")\n",
    "\n",
    "# A numeric variable can also be assigned to size to apply a semantic mapping to the areas of the points:\n",
    "# set size also to level \n",
    "sns.scatterplot(data=df, x=\"num_attempts\", y=\"num_success\", size =\"level\", hue=\"level\")\n",
    "\n",
    "# check more info here\n",
    "# https://seaborn.pydata.org/generated/seaborn.scatterplot.html"
   ]
  },
  {
   "cell_type": "code",
   "execution_count": 76,
   "metadata": {},
   "outputs": [
    {
     "name": "stdout",
     "output_type": "stream",
     "text": [
      "    gamer_level  number_of_gamers\n",
      "0      beginner               100\n",
      "1  intermediate               134\n",
      "2      advanced                67\n"
     ]
    }
   ],
   "source": [
    "# Create a dataframe from scratch with the following data: two columns with gamer level and number of gamers\n",
    "# it should contain the following data: beginner: 100, intermediate: 134, advanced: 67\n",
    "# store it in a dataframe called gamers\n",
    "data = {'gamer_level': ['beginner', 'intermediate', 'advanced'],\n",
    "        'number_of_gamers': [100, 134, 67]}\n",
    "gamers = pd.DataFrame(data)\n",
    "\n",
    "# show the dataframe\n",
    "print(gamers)"
   ]
  },
  {
   "cell_type": "code",
   "execution_count": 77,
   "metadata": {},
   "outputs": [
    {
     "data": {
      "image/png": "[encoded data removed]",
      "text/plain": [
       "<Figure size 640x480 with 1 Axes>"
      ]
     },
     "metadata": {},
     "output_type": "display_data"
    }
   ],
   "source": [
    "# bar plots\n",
    "# Create a bar plot of the number of gamers per level\n",
    "plt.bar(gamers.gamer_level, gamers.number_of_gamers)\n",
    "plt.ylabel(\"Number of Gamers\")\n",
    "plt.xlabel(\"Levels\")\n",
    "plt.title(\"Number of Gamers per Level\")\n",
    "plt.show()"
   ]
  },
  {
   "cell_type": "code",
   "execution_count": null,
   "metadata": {},
   "outputs": [
    {
     "name": "stdout",
     "output_type": "stream",
     "text": [
      "                          player_id          dt  level  num_attempts  \\\n",
      "0  6dd5af4c7228fa353d505767143f5815  2014-01-04      4             3   \n",
      "1  c7ec97c39349ab7e4d39b4f74062ec13  2014-01-01      8             4   \n",
      "2  c7ec97c39349ab7e4d39b4f74062ec13  2014-01-05     12             6   \n",
      "3  a32c5e9700ed356dc8dd5bb3230c5227  2014-01-03     11             1   \n",
      "4  a32c5e9700ed356dc8dd5bb3230c5227  2014-01-07     15             6   \n",
      "\n",
      "   num_success  \n",
      "0            1  \n",
      "1            1  \n",
      "2            0  \n",
      "3            1  \n",
      "4            0  \n",
      "           dt  level  num_attempts  num_success  ns10  scaled_level\n",
      "0  2014-01-04      4             3            1    10      0.266667\n",
      "1  2014-01-01      8             4            1    10      0.533333\n",
      "2  2014-01-05     12             6            0     0      0.800000\n",
      "3  2014-01-03     11             1            1    10      0.733333\n",
      "4  2014-01-07     15             6            0     0      1.000000\n"
     ]
    }
   ],
   "source": [
    "# you can create new variables/ columns from the existing columns or new ones.\n",
    "# you can set the new variable using the square brackets and the string of variable name df[\"newvar\"] = ....\n",
    "# print the head of the df dataframe\n",
    "print(df.head())\n",
    "\n",
    "# create a new dataframe called df2\n",
    "df2 = df\n",
    "# add a variable called ns10 that scales the number of succeses by 10 (ie. X10)\n",
    "df2[\"ns10\"] = df.num_success * 10\n",
    "\n",
    "# add a variable called scaled_level that scales the levels between 0 and 1\n",
    "df2[\"scaled_level\"] = df2.level / max(df2.level)\n",
    "#print(df2.scaled_level)\n",
    "\n",
    "# remove a column with function drop\n",
    "# try with the option inplace as True and False\n",
    "df2.drop(columns=['player_id'], inplace=True)\n",
    "\n",
    "# print the head of the df2 dataframe\n",
    "#print(df2.head())\n",
    "\n",
    "# print again the head of the df dataframe\n",
    "print(df.head())\n",
    "# what happen here to the df? can you explain why?\n",
    "# because inplace was set to True, the column was removed from the original dataframe"
   ]
  },
  {
   "cell_type": "code",
   "execution_count": null,
   "metadata": {},
   "outputs": [],
   "source": []
  }
 ],
 "metadata": {
  "kernelspec": {
   "display_name": "base",
   "language": "python",
   "name": "python3"
  },
  "language_info": {
   "codemirror_mode": {
    "name": "ipython",
    "version": 3
   },
   "file_extension": ".py",
   "mimetype": "text/x-python",
   "name": "python",
   "nbconvert_exporter": "python",
   "pygments_lexer": "ipython3",
   "version": "3.12.3"
  }
 },
 "nbformat": 4,
 "nbformat_minor": 2
}
