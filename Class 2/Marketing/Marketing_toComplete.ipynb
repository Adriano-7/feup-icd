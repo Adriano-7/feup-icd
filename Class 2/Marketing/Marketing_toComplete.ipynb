{
 "cells": [
  {
   "cell_type": "markdown",
   "metadata": {
    "id": "lVy_ZnMYLYg4"
   },
   "source": [
    "# Analyzing Marketing Campaigns with Pandas\n",
    "\n",
    "As as a data scientist for a Marketing company, you will have to translate common business questions into measurable outcomes, including \"How did this campaign perform?\", \"Which channel is referring the most subscribers?\", \"Why is a particular channel underperforming?\" and more using a fake marketing dataset based on the data of an online subscription business. This exercise will build on Python and pandas fundamentals, such as merging/slicing datasets, groupby(), correcting data types and visualizing results using matplotlib."
   ]
  },
  {
   "cell_type": "markdown",
   "metadata": {
    "id": "Bky1LqW2MNeE"
   },
   "source": [
    "# Pandas\n",
    "\n",
    "In this section, you will review pandas basics including importing datasets, exploratory analysis, and basic plotting."
   ]
  },
  {
   "cell_type": "markdown",
   "metadata": {
    "id": "BBte9Fx_2hst"
   },
   "source": [
    "*   Import pandas into your environment with the alias pd.\n",
    "*   Import the 'marketing.csv' dataset."
   ]
  },
  {
   "cell_type": "code",
   "execution_count": 23,
   "metadata": {
    "id": "7mrqDfxXLUQT"
   },
   "outputs": [
    {
     "data": {
      "text/plain": [
       "Index(['user_id', 'date_served', 'marketing_channel', 'variant', 'converted',\n",
       "       'language_displayed', 'language_preferred', 'age_group',\n",
       "       'date_subscribed', 'date_canceled', 'subscribing_channel',\n",
       "       'is_retained'],\n",
       "      dtype='object')"
      ]
     },
     "execution_count": 23,
     "metadata": {},
     "output_type": "execute_result"
    }
   ],
   "source": [
    "# Import pandas into the environment\n",
    "import pandas as pd\n",
    "\n",
    "date_format = '%m/%d/%y'\n",
    "\n",
    "df = pd.read_csv(\"marketing.csv\", parse_dates=['date_served', 'date_subscribed', 'date_canceled'], date_format=date_format)\n",
    "df.columns"
   ]
  },
  {
   "cell_type": "markdown",
   "metadata": {
    "id": "NfuV9ELj2ssC"
   },
   "source": [
    "# Examining the data\n",
    "Now that you've imported the data, you will examine it to ensure it is valid. While it may be tempting to dive into analysis, by validating your dataset immediately, you ensure that the insights you derive are both true and actionable. Ensuring the validity of your dataset should always be the first step you take when beginning analysis on a new dataset.\n",
    "\n",
    "The marketing DataFrame is available in your workspace.\n",
    "\n",
    "*   Print the first five rows of the marketing DataFrame.\n",
    "\n",
    "\n"
   ]
  },
  {
   "cell_type": "code",
   "execution_count": 24,
   "metadata": {
    "id": "WrEtC8vU2sGy"
   },
   "outputs": [
    {
     "name": "stdout",
     "output_type": "stream",
     "text": [
      "      user_id date_served marketing_channel          variant converted  \\\n",
      "0  a100000029  2018-01-01         House Ads  personalization      True   \n",
      "1  a100000030  2018-01-01         House Ads  personalization      True   \n",
      "2  a100000031  2018-01-01         House Ads  personalization      True   \n",
      "3  a100000032  2018-01-01         House Ads  personalization      True   \n",
      "4  a100000033  2018-01-01         House Ads  personalization      True   \n",
      "\n",
      "  language_displayed language_preferred    age_group date_subscribed  \\\n",
      "0            English            English   0-18 years      2018-01-01   \n",
      "1            English            English  19-24 years      2018-01-01   \n",
      "2            English            English  24-30 years      2018-01-01   \n",
      "3            English            English  30-36 years      2018-01-01   \n",
      "4            English            English  36-45 years      2018-01-01   \n",
      "\n",
      "  date_canceled subscribing_channel is_retained  \n",
      "0           NaT           House Ads        True  \n",
      "1           NaT           House Ads        True  \n",
      "2           NaT           House Ads        True  \n",
      "3           NaT           House Ads        True  \n",
      "4           NaT           House Ads        True  \n"
     ]
    }
   ],
   "source": [
    "# Print the first five rows\n",
    "print(df.head(5))"
   ]
  },
  {
   "cell_type": "code",
   "execution_count": 25,
   "metadata": {},
   "outputs": [
    {
     "name": "stdout",
     "output_type": "stream",
     "text": [
      "                         date_served                date_subscribed  \\\n",
      "count                          10021                           1856   \n",
      "mean   2018-01-15 05:02:03.221235712  2018-01-14 02:04:08.275862016   \n",
      "min              2018-01-01 00:00:00            2018-01-01 00:00:00   \n",
      "25%              2018-01-08 00:00:00            2018-01-07 00:00:00   \n",
      "50%              2018-01-15 00:00:00            2018-01-15 00:00:00   \n",
      "75%              2018-01-22 00:00:00            2018-01-19 00:00:00   \n",
      "max              2018-01-31 00:00:00            2018-01-31 00:00:00   \n",
      "\n",
      "                       date_canceled  \n",
      "count                            577  \n",
      "mean   2018-03-03 18:28:04.575389952  \n",
      "min              2018-01-05 00:00:00  \n",
      "25%              2018-02-07 00:00:00  \n",
      "50%              2018-03-04 00:00:00  \n",
      "75%              2018-04-01 00:00:00  \n",
      "max              2018-05-09 00:00:00  \n"
     ]
    }
   ],
   "source": [
    "# Print the statistics of all columns\n",
    "print(df.describe())\n"
   ]
  },
  {
   "cell_type": "code",
   "execution_count": 26,
   "metadata": {},
   "outputs": [
    {
     "name": "stdout",
     "output_type": "stream",
     "text": [
      "<class 'pandas.core.frame.DataFrame'>\n",
      "RangeIndex: 10037 entries, 0 to 10036\n",
      "Data columns (total 12 columns):\n",
      " #   Column               Non-Null Count  Dtype         \n",
      "---  ------               --------------  -----         \n",
      " 0   user_id              10037 non-null  object        \n",
      " 1   date_served          10021 non-null  datetime64[ns]\n",
      " 2   marketing_channel    10022 non-null  object        \n",
      " 3   variant              10037 non-null  object        \n",
      " 4   converted            10022 non-null  object        \n",
      " 5   language_displayed   10037 non-null  object        \n",
      " 6   language_preferred   10037 non-null  object        \n",
      " 7   age_group            10037 non-null  object        \n",
      " 8   date_subscribed      1856 non-null   datetime64[ns]\n",
      " 9   date_canceled        577 non-null    datetime64[ns]\n",
      " 10  subscribing_channel  1856 non-null   object        \n",
      " 11  is_retained          1856 non-null   object        \n",
      "dtypes: datetime64[ns](3), object(9)\n",
      "memory usage: 941.1+ KB\n",
      "None\n"
     ]
    }
   ],
   "source": [
    "# Check column data types and non-missing values\n",
    "print(df.info())"
   ]
  },
  {
   "cell_type": "markdown",
   "metadata": {
    "id": "yZYvEXb_3yIS"
   },
   "source": [
    "# Updating the data type of a column\n",
    "You will often want to modify the data type of columns to suit your needs. Pandas and Python have special functionalities around manipulating data types that can make your analysis easier and more robust, such as concatenating strings and summing boolean values. However, this functionality is only possible if columns are stored as the intended data type.\n",
    "\n",
    "In this exercise, you will modify the data type of the is_retained column."
   ]
  },
  {
   "cell_type": "code",
   "execution_count": 27,
   "metadata": {},
   "outputs": [
    {
     "name": "stdout",
     "output_type": "stream",
     "text": [
      "object\n",
      "object\n"
     ]
    }
   ],
   "source": [
    "print(df['is_retained'].dtype)\n",
    "print(df['converted'].dtype)"
   ]
  },
  {
   "cell_type": "code",
   "execution_count": 28,
   "metadata": {},
   "outputs": [
    {
     "name": "stdout",
     "output_type": "stream",
     "text": [
      "bool\n",
      "bool\n"
     ]
    }
   ],
   "source": [
    "# Convert is_retained to a boolean\n",
    "#Hint: Remember, you can use the argument 'bool' to change the data type to boolean. Checkc the function astype()\n",
    "df['is_retained'] = df['is_retained'].astype('bool')\n",
    "df['converted'] = df['converted'].astype('bool')\n",
    "print(df['is_retained'].dtype)\n",
    "print(df['converted'].dtype)"
   ]
  },
  {
   "cell_type": "markdown",
   "metadata": {
    "id": "0GdpG3dg4tVf"
   },
   "source": [
    "# Adding new columns\n",
    "Adding new columns that derive information from existing data or based on domain knowledge is known as Feature Engineering. Even in relatively simple datasets, there are always new characteristics you could pull out to create a more in-depth analysis.\n",
    "\n",
    "One of the most critical skills a data scientist needs to learn is how to identify opportunities for feature engineering.\n",
    "\n",
    "In this exercise, you will add two columns to marketing:\n",
    "\n",
    "channel_code: represents the numeric value of the subscribing channel\n",
    "is_correct_lang: conveys whether the ad was shown to the user in their preferred language"
   ]
  },
  {
   "cell_type": "markdown",
   "metadata": {
    "id": "stG1VoHm5L86"
   },
   "source": [
    "*   Add a new column, channel_code, which maps the values in the subscribing_channel column to a numeric scale using the channel_dict dictionary."
   ]
  },
  {
   "cell_type": "code",
   "execution_count": 30,
   "metadata": {
    "id": "T1t_zN3A4tAI"
   },
   "outputs": [
    {
     "name": "stdout",
     "output_type": "stream",
     "text": [
      "      user_id date_served marketing_channel          variant  converted  \\\n",
      "0  a100000029  2018-01-01         House Ads  personalization       True   \n",
      "1  a100000030  2018-01-01         House Ads  personalization       True   \n",
      "2  a100000031  2018-01-01         House Ads  personalization       True   \n",
      "3  a100000032  2018-01-01         House Ads  personalization       True   \n",
      "4  a100000033  2018-01-01         House Ads  personalization       True   \n",
      "\n",
      "  language_displayed language_preferred    age_group date_subscribed  \\\n",
      "0            English            English   0-18 years      2018-01-01   \n",
      "1            English            English  19-24 years      2018-01-01   \n",
      "2            English            English  24-30 years      2018-01-01   \n",
      "3            English            English  30-36 years      2018-01-01   \n",
      "4            English            English  36-45 years      2018-01-01   \n",
      "\n",
      "  date_canceled subscribing_channel  is_retained  channel_code  \n",
      "0           NaT           House Ads         True           1.0  \n",
      "1           NaT           House Ads         True           1.0  \n",
      "2           NaT           House Ads         True           1.0  \n",
      "3           NaT           House Ads         True           1.0  \n",
      "4           NaT           House Ads         True           1.0  \n"
     ]
    }
   ],
   "source": [
    "# Mapping for channels\n",
    "channel_dict = {\"House Ads\": 1, \"Instagram\": 2,\n",
    "                \"Facebook\": 3, \"Email\": 4, \"Push\": 5}\n",
    "\n",
    "# Map the channel to a channel code\n",
    "# Hint: check the use of the map function\n",
    "df['channel_code'] = df['subscribing_channel'].map(channel_dict)\n",
    "\n",
    "# Print the first five rows of the updated DataFrame\n",
    "print(df.head())"
   ]
  },
  {
   "cell_type": "markdown",
   "metadata": {
    "id": "w9vnoSKXQKk1"
   },
   "source": [
    "\n",
    "*  is_correct_lang: conveys whether the ad was shown to the user in their preferred language\n",
    "\n",
    "* Import numpy with the alias np.\n",
    "*  Add a new column, is_correct_lang, which is 'Yes' if the user was shown the ad in their preferred language, 'No' otherwise. You can use the columns 'language_preferred' and 'language_displayed'.\n",
    "*  use the np.where() function; this function takes 3 parameters: the test, the first value, the second value. In this case of a boolean test the second and third value are \"Yes\" and \"No\""
   ]
  },
  {
   "cell_type": "code",
   "execution_count": null,
   "metadata": {
    "id": "IPV38LURTHyW"
   },
   "outputs": [],
   "source": [
    "# Import numpy\n",
    "____\n",
    "\n",
    "# Add the new column is_correct_lang\n",
    "df['is_correct_lang'] = ____"
   ]
  },
  {
   "cell_type": "markdown",
   "metadata": {
    "id": "dNUyeaLZXRbA"
   },
   "source": [
    "# Date columns\n",
    "Currently, the date columns in the marketing DataFrame are being incorrectly read as objects. We need to convert these columns to date columns to be able to use Python and pandas' robust date manipulation and formatting capabilities.\n",
    "\n",
    "In this exercise, you will practice reading the CSV with proper date columns and create a day of the week column.\n"
   ]
  },
  {
   "cell_type": "markdown",
   "metadata": {
    "id": "BGP-iiQhaZXU"
   },
   "source": [
    "Read the CSV File with parse_dates\n",
    "* You can read the CSV file and specify which column should be parsed as dates:"
   ]
  },
  {
   "cell_type": "code",
   "execution_count": null,
   "metadata": {
    "id": "0fJMevvkaVMJ"
   },
   "outputs": [],
   "source": [
    "# Import marketing.csv with date columns\n",
    "df = pd.read_csv(\"marketing.csv\", parse_dates = [_________]])"
   ]
  },
  {
   "cell_type": "markdown",
   "metadata": {
    "id": "BP-GC5QyaT2d"
   },
   "source": []
  },
  {
   "cell_type": "markdown",
   "metadata": {
    "id": "z0_hd0qIXWLc"
   },
   "source": [
    "\n",
    "*   Create a day of week column from 'date_subscribed' using .dt.dayofweek.\n",
    "\n",
    "Hint: Pandas has a function that .to_datetime() that convert objects to date format.\n",
    "\n",
    "## Convert to Datetime\n",
    "Use pd.to_datetime() to convert the date_subscribed column to datetime\n",
    "\n",
    "## Access Date Elements\n",
    "Once the column is converted, you can access various components of the date in the **dt** object:\n",
    "*  Access year\n",
    "pd.to_datetime(df['date_subscribed']).dt.year\n",
    "*  Access month\n",
    ".....dt.month\n",
    "\n",
    "*   Access day\n",
    ".....dt.day\n",
    "\n",
    "*   Access weekday (0=Monday, 6=Sunday)\n",
    ".....dt.weekday\n",
    "\n",
    "*   Access day of the week name\n",
    "....dt.day_name()"
   ]
  },
  {
   "cell_type": "code",
   "execution_count": null,
   "metadata": {
    "id": "KS3w5zZ_cjv7"
   },
   "outputs": [],
   "source": [
    "# Add a DoW column\n",
    "df['DoW'] = pd.to_datetime(____).dt.___\n"
   ]
  },
  {
   "cell_type": "markdown",
   "metadata": {
    "id": "LrG16K1Ydo4t"
   },
   "source": [
    "# EDA\n",
    "\n",
    "In Python, particularly with the Pandas library, the .nunique() method is used to count the number of unique values in a Series or DataFrame. This is particularly useful for exploring and understanding the distinct values in your data.\n",
    "\n",
    "The .groupby() method in Python's Pandas library is a powerful tool used for splitting a DataFrame into groups based on some criteria. It allows you to perform operations on these groups, such as aggregating, transforming, or filtering data.\n",
    "\n",
    "Key Features of .groupby()\n",
    "* Splitting: The data is divided into groups based on the values of one or more columns (also called \"keys\").\n",
    "\n",
    "Applying: You can apply functions to the resulting groups. Common functions include:\n",
    "\n",
    "* Aggregation (e.g., sum, mean, count)\n",
    "* Transformation (e.g., standardization)\n",
    "* Filtering (e.g., retaining groups based on specific conditions)\n",
    "* Combining: After applying a function, the results are combined back into a DataFrame or Series.\n",
    "\n",
    "Basic Syntax:\n",
    "grouped = df.groupby('column_name')"
   ]
  },
  {
   "cell_type": "markdown",
   "metadata": {
    "id": "IlBt1A2EeKnF"
   },
   "source": [
    "# Daily marketing reach by channel\n",
    "In this exercise, you'll determine how many users are seeing the marketing assets each day. This is crucial to understand how effective our marketing efforts have been over the past month.\n",
    "\n",
    "You'll use .groupby() and .nunique() to calculate daily users."
   ]
  },
  {
   "cell_type": "markdown",
   "metadata": {
    "id": "NWLgGdxfeXzi"
   },
   "source": [
    "* Group the marketing DataFrame by 'date_served' and count the number of unique user IDs present in the user_id column.\n",
    "\n",
    "Hint: Make sure 'date_served' is enclosed in brackets [] within your call to .groupby()"
   ]
  },
  {
   "cell_type": "code",
   "execution_count": null,
   "metadata": {
    "id": "ahIOD4OFfByo"
   },
   "outputs": [],
   "source": [
    "# Group by date_served and count number of unique user_id's\n",
    "daily_users = ____.____(['____'])['____'].____()\n",
    "\n",
    "# Print head of daily_users\n",
    "print(daily_users.____)"
   ]
  },
  {
   "cell_type": "markdown",
   "metadata": {
    "id": "Wz0NAK1nhB3r"
   },
   "source": [
    "# Visualizing daily marketing reach\n",
    "In the previous exercise, you created a daily_users DataFrame, which contained the number of users who subscribed each day. While this was a great first step, it is challenging to interpret daily trends by looking at a table. To make it easier for you and your business stakeholders to notice subscriber trends, you will visualize your results using a line plot."
   ]
  },
  {
   "cell_type": "markdown",
   "metadata": {
    "id": "VaoBn_g9hHo7"
   },
   "source": [
    "* Use the .plot() method to visualize the results of date_served.\n",
    "* Add the title 'Daily users' and the y-axis label 'Number of users'.\n",
    "* Rotate the x-axis labels by 45 degrees.\n",
    "* Display the plot."
   ]
  },
  {
   "cell_type": "code",
   "execution_count": null,
   "metadata": {
    "id": "bsXNm4C4hMIb"
   },
   "outputs": [],
   "source": [
    "# Plot daily_users\n",
    "daily_users.____\n",
    "\n",
    "# Include a title and y-axis label\n",
    "plt.____('____')\n",
    "plt.____('____')\n",
    "\n",
    "# Rotate the x-axis labels by 45 degrees\n",
    "plt.____(____)\n",
    "\n",
    "# Display the plot\n",
    "plt.____()"
   ]
  }
 ],
 "metadata": {
  "colab": {
   "provenance": []
  },
  "kernelspec": {
   "display_name": "Python 3",
   "name": "python3"
  },
  "language_info": {
   "name": "python",
   "version": "3.11.9"
  }
 },
 "nbformat": 4,
 "nbformat_minor": 0
}
