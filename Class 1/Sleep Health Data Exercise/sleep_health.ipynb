{
 "cells": [
  {
   "cell_type": "markdown",
   "metadata": {},
   "source": [
    "# Explore Sleep Health Data\n",
    "\n",
    "Your client, SleepInc, has shared anonymized sleep data from their hot new \n",
    "sleep tracking app SleepScope. As their data science consultant, your mission is \n",
    "to analyze the lifestyle survey data with Python to discover relationships \n",
    "between exercise, gender, occupation, and sleep quality. See if you can identify \n",
    "patterns leading to insights on sleep quality"
   ]
  },
  {
   "cell_type": "code",
   "execution_count": 5,
   "metadata": {},
   "outputs": [
    {
     "data": {
      "text/plain": [
       "Index(['Person ID', 'Gender', 'Age', 'Occupation', 'Sleep Duration',\n",
       "       'Quality of Sleep', 'Physical Activity Level', 'Stress Level',\n",
       "       'BMI Category', 'Blood Pressure', 'Heart Rate', 'Daily Steps',\n",
       "       'Sleep Disorder'],\n",
       "      dtype='object')"
      ]
     },
     "execution_count": 5,
     "metadata": {},
     "output_type": "execute_result"
    }
   ],
   "source": [
    "import pandas as pd\n",
    "\n",
    "df = pd.read_csv('sleep_health_data.csv')\n",
    "df.columns"
   ]
  },
  {
   "cell_type": "code",
   "execution_count": 6,
   "metadata": {},
   "outputs": [
    {
     "data": {
      "text/plain": [
       "(374, 13)"
      ]
     },
     "execution_count": 6,
     "metadata": {},
     "output_type": "execute_result"
    }
   ],
   "source": [
    "df.shape"
   ]
  },
  {
   "cell_type": "markdown",
   "metadata": {},
   "source": [
    "The dataset includes 13 columns covering sleep duration, quality, disorders,  exercise, stress, diet, demographics, and other factors related to sleep health.\n",
    "\n",
    "| Column                        | Description                                                                 | Data Type       | Type Description |\n",
    "|-------------------------------|-----------------------------------------------------------------------------|-----------------|------------------|\n",
    "| Person ID                     | An identifier for each individual.                                           | Nominal         | Categorical data with no inherent order. |\n",
    "| Gender                        | The gender of the person (Male/Female).                                      | Nominal         | Categorical data with no inherent order. |\n",
    "| Age                           | The age of the person in years.                                              | Ratio           | Numeric data with a true zero point. |\n",
    "| Occupation                    | The occupation or profession of the person.                                  | Nominal         | Categorical data with no inherent order. |\n",
    "| Sleep Duration (hours)        | The average number of hours the person sleeps per day.                       | Ratio           | Numeric data with a true zero point. |\n",
    "| Quality of Sleep (scale: 1-10)| A subjective rating of the quality of sleep, ranging from 1 to 10.           | Ordinal         | Categorical data with a meaningful order. |\n",
    "| Physical Activity Level (minutes/day) | The average number of minutes the person engages in physical activity daily. | Ratio           | Numeric data with a true zero point. |\n",
    "| Stress Level (scale: 1-10)    | A subjective rating of the stress level experienced by the person, ranging from 1 to 10. | Ordinal         | Categorical data with a meaningful order. |\n",
    "| BMI Category                  | The BMI category of the person (e.g., Underweight, Normal, Overweight).      | Nominal         | Categorical data with no inherent order. |\n",
    "| Blood Pressure (systolic/diastolic) | The average blood pressure measurement of the person, indicated as systolic pressure over diastolic pressure. | Ratio           | Numeric data with a true zero point. |\n",
    "| Heart Rate (bpm)              | The average resting heart rate of the person in beats per minute.            | Ratio           | Numeric data with a true zero point. |\n",
    "| Daily Steps                   | The average number of steps the person takes per day.                        | Ratio           | Numeric data with a true zero point. |\n",
    "| Sleep Disorder                | The presence or absence of a sleep disorder in the person (None, Insomnia, Sleep Apnea). | Nominal         | Categorical data with no inherent order. |"
   ]
  },
  {
   "cell_type": "markdown",
   "metadata": {},
   "source": [
    "#### 1. Which occupation has the lowest average sleep duration? Save this in a string variable called lowest_sleep_occ.  "
   ]
  },
  {
   "cell_type": "code",
   "execution_count": 18,
   "metadata": {},
   "outputs": [
    {
     "name": "stdout",
     "output_type": "stream",
     "text": [
      "The occupation with the lowest average sleep duration is Sales Representative with an average sleep duration of 5.9 hours.\n"
     ]
    }
   ],
   "source": [
    "lowest_sleep_occ_df = df.groupby('Occupation')['Sleep Duration'].mean()\n",
    "lowest_sleep_occ = lowest_sleep_occ_df.idxmin()\n",
    "print(\"The occupation with the lowest average sleep duration is\", lowest_sleep_occ, \"with an average sleep duration of\", lowest_sleep_occ_df[lowest_sleep_occ], \"hours.\")"
   ]
  },
  {
   "cell_type": "markdown",
   "metadata": {},
   "source": [
    "#### 2. Which occupation has the lowest average sleep quality? Save this in a string variable called lowest_sleep_quality_occ. Did the occupation with the lowest sleep duration also have the lowest sleep quality? If so assign a boolean value to variable same_occ variable, True if it is the same occupation, and False if it isn't.  "
   ]
  },
  {
   "cell_type": "code",
   "execution_count": 25,
   "metadata": {},
   "outputs": [
    {
     "name": "stdout",
     "output_type": "stream",
     "text": [
      "The occupation with the lowest sleep quality is Sales Representative\n",
      "True\n"
     ]
    }
   ],
   "source": [
    "lowest_sleep_quality_occ_df = df.groupby('Occupation')['Quality of Sleep'].mean()\n",
    "lowest_sleep_quality_occ = lowest_sleep_quality_occ_df.idxmin()\n",
    "\n",
    "lowest_sleep_quality_occ\n",
    "print(\"The occupation with the lowest sleep quality is\", lowest_sleep_quality_occ)\n",
    "\n",
    "same_occ = lowest_sleep_occ == lowest_sleep_quality_occ\n",
    "print(same_occ)"
   ]
  },
  {
   "cell_type": "markdown",
   "metadata": {},
   "source": [
    "#### 3. Let's explore how BMI Category can affect sleep disorder rates. Start by finding what ratio of app users in each BMI Category have been diagnosed with Insomnia. Create a dictionary named: bmi_insomnia_ratios. The key should be the BMI Category as a string, while the value should be the ratio of people in this category with insomnia as a float rounded to two decimal places. "
   ]
  },
  {
   "cell_type": "code",
   "execution_count": 47,
   "metadata": {},
   "outputs": [
    {
     "data": {
      "text/plain": [
       "{'Normal': 0.04, 'Overweight': 0.43, 'Obese': 0.4}"
      ]
     },
     "execution_count": 47,
     "metadata": {},
     "output_type": "execute_result"
    }
   ],
   "source": [
    "bmi_insomnia_ratios = {\n",
    "    \"Normal\": float,\n",
    "    \"Overweight\": float,\n",
    "    \"Obese\": float\n",
    "}\n",
    "\n",
    "for bmi in bmi_insomnia_ratios:\n",
    "    ppl_with_bmi = df[df['BMI Category']==bmi].shape[0]\n",
    "    ppl_with_bmi_insomnia = df[(df['BMI Category']==bmi) & (df['Sleep Disorder']==\"Insomnia\")].shape[0]\n",
    "    bmi_insomnia_ratios[bmi] = round(ppl_with_bmi_insomnia/ppl_with_bmi,2)\n",
    "\n",
    "bmi_insomnia_ratios"
   ]
  }
 ],
 "metadata": {
  "kernelspec": {
   "display_name": "Python 3",
   "language": "python",
   "name": "python3"
  },
  "language_info": {
   "codemirror_mode": {
    "name": "ipython",
    "version": 3
   },
   "file_extension": ".py",
   "mimetype": "text/x-python",
   "name": "python",
   "nbconvert_exporter": "python",
   "pygments_lexer": "ipython3",
   "version": "3.11.9"
  }
 },
 "nbformat": 4,
 "nbformat_minor": 2
}
